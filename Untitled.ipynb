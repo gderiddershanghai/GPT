{
 "cells": [
  {
   "cell_type": "code",
   "execution_count": 36,
   "id": "432c82b4",
   "metadata": {},
   "outputs": [],
   "source": [
    "def rot13(message):\n",
    "\n",
    "    letters = ['a','b','c','d','e','f','g','h','i','j','k','l','m','n','o','p','q','r','s','t','u','v','w','x','y','z']\n",
    "    index = list(range(1,27))\n",
    "    d = dict(zip(index,letters))\n",
    "    d_index = dict(zip(letters,index))\n",
    "    ans = ''\n",
    "    for c in message:\n",
    "        print(c)\n",
    "        if c.lower() in letters:\n",
    "            print('in letters')\n",
    "            idx = d_index[c.lower()]\n",
    "            correct_idx = 0\n",
    "            if idx > (26-idx):\n",
    "                print('bigger than')\n",
    "                minus_val = idx-26\n",
    "                correct_idx = 0 + (13-abs(minus_val))\n",
    "            else: \n",
    "                print('ntoe bigger than')\n",
    "                correct_idx = idx + 13\n",
    "            char = d[correct_idx]\n",
    "            if c.isupper():\n",
    "                print(f'upper {char}')\n",
    "                ans = ans + char.upper()\n",
    "            else:\n",
    "                print(f'not upper {char}')\n",
    "                ans = ans + char\n",
    "        else:\n",
    "            ans = ans + c\n",
    "    \n",
    "    return ans"
   ]
  },
  {
   "cell_type": "code",
   "execution_count": null,
   "id": "274a1471",
   "metadata": {},
   "outputs": [],
   "source": []
  },
  {
   "cell_type": "code",
   "execution_count": 37,
   "id": "9282ca91",
   "metadata": {},
   "outputs": [
    {
     "name": "stdout",
     "output_type": "stream",
     "text": [
      "G\n",
      "in letters\n",
      "ntoe bigger than\n",
      "upper t\n",
      "r\n",
      "in letters\n",
      "bigger than\n",
      "not upper e\n",
      "f\n",
      "in letters\n",
      "ntoe bigger than\n",
      "not upper s\n",
      "g\n",
      "in letters\n",
      "ntoe bigger than\n",
      "not upper t\n"
     ]
    },
    {
     "data": {
      "text/plain": [
       "'Test'"
      ]
     },
     "execution_count": 37,
     "metadata": {},
     "output_type": "execute_result"
    }
   ],
   "source": [
    "rot13(message='Grfg')"
   ]
  },
  {
   "cell_type": "code",
   "execution_count": 3,
   "id": "46ff2470",
   "metadata": {},
   "outputs": [
    {
     "data": {
      "text/plain": [
       "['a',\n",
       " 'b',\n",
       " 'c',\n",
       " 'd',\n",
       " 'e',\n",
       " 'f',\n",
       " 'g',\n",
       " 'h',\n",
       " 'i',\n",
       " 'j',\n",
       " 'k',\n",
       " 'l',\n",
       " 'm',\n",
       " 'n',\n",
       " 'o',\n",
       " 'p',\n",
       " 'q',\n",
       " 'r',\n",
       " 's',\n",
       " 't',\n",
       " 'u',\n",
       " 'v',\n",
       " 'w',\n",
       " 'x',\n",
       " 'y',\n",
       " 'z']"
      ]
     },
     "execution_count": 3,
     "metadata": {},
     "output_type": "execute_result"
    }
   ],
   "source": [
    "l = [\"A\", \"B\", \"C\", \"D\", \"E\", \"F\", \"G\", \"H\", \"I\", \"J\", \"K\", \"L\", \"M\", \"N\", \"O\", \"P\", \"Q\", \"R\", \"S\", \"T\", \"U\", \"V\", \"W\", \"X\", \"Y\", \"Z\"]\n",
    "[i.lower() for i in l]\n",
    "letters = ['a','b','c','d','e','f','g','h','i','j','k','l','m','n','o','p','q','r','s','t','u','v','w','x','y','z']\n",
    "index = list(range(1,27))"
   ]
  },
  {
   "cell_type": "code",
   "execution_count": 8,
   "id": "a719ade1",
   "metadata": {},
   "outputs": [
    {
     "data": {
      "text/plain": [
       "[1,\n",
       " 2,\n",
       " 3,\n",
       " 4,\n",
       " 5,\n",
       " 6,\n",
       " 7,\n",
       " 8,\n",
       " 9,\n",
       " 10,\n",
       " 11,\n",
       " 12,\n",
       " 13,\n",
       " 14,\n",
       " 15,\n",
       " 16,\n",
       " 17,\n",
       " 18,\n",
       " 19,\n",
       " 20,\n",
       " 21,\n",
       " 22,\n",
       " 23,\n",
       " 24,\n",
       " 25,\n",
       " 26]"
      ]
     },
     "execution_count": 8,
     "metadata": {},
     "output_type": "execute_result"
    }
   ],
   "source": [
    "list(range(1,27))"
   ]
  },
  {
   "cell_type": "code",
   "execution_count": null,
   "id": "812f2ba3",
   "metadata": {},
   "outputs": [],
   "source": []
  }
 ],
 "metadata": {
  "kernelspec": {
   "display_name": "Python 3 (ipykernel)",
   "language": "python",
   "name": "python3"
  },
  "language_info": {
   "codemirror_mode": {
    "name": "ipython",
    "version": 3
   },
   "file_extension": ".py",
   "mimetype": "text/x-python",
   "name": "python",
   "nbconvert_exporter": "python",
   "pygments_lexer": "ipython3",
   "version": "3.10.6"
  },
  "toc": {
   "base_numbering": 1,
   "nav_menu": {},
   "number_sections": true,
   "sideBar": true,
   "skip_h1_title": false,
   "title_cell": "Table of Contents",
   "title_sidebar": "Contents",
   "toc_cell": false,
   "toc_position": {},
   "toc_section_display": true,
   "toc_window_display": false
  }
 },
 "nbformat": 4,
 "nbformat_minor": 5
}
